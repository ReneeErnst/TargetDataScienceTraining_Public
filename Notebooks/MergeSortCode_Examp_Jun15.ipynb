{
 "cells": [
  {
   "cell_type": "markdown",
   "metadata": {},
   "source": [
    "#Merge Sort Code"
   ]
  },
  {
   "cell_type": "code",
   "execution_count": 2,
   "metadata": {
    "collapsed": false
   },
   "outputs": [
    {
     "name": "stdout",
     "output_type": "stream",
     "text": [
      "['alan', 'jimi', 'vick']\n",
      "['a', 'm', 'z']\n",
      "['a', 'alan', 'jimi', 'm', 'vick', 'z']\n"
     ]
    }
   ],
   "source": [
    "## Choose which list you want to sort\n",
    "\n",
    "#a = [3,2,5,10,38,47,92,1,3,5,23,12]\n",
    "a = [\"Jimi\",\"vick\",\"Alan\"]\n",
    "# to lower case if needed\n",
    "a = map(str.lower, a)\n",
    "# sort the list\n",
    "a.sort()\n",
    "print(a)\n",
    "\n",
    "#b = [6,2,32,34,35,68,73,1,34,84,15]\n",
    "b = [\"A\",\"Z\",\"m\"]\n",
    "# to lower case if needed\n",
    "b = map(str.lower, b)\n",
    "# sort the list\n",
    "b.sort()\n",
    "print(b)\n",
    "\n",
    "def mergeSortedLists(a,b):\n",
    "    l = []\n",
    "    while a and b:\n",
    "        if a[0] < b[0] :\n",
    "            l.append(a.pop(0))\n",
    "        else:\n",
    "            l.append(b.pop(0))\n",
    "    return l + a + b\n",
    "\n",
    "result = mergeSortedLists(a,b) \n",
    "print(result) "
   ]
  },
  {
   "cell_type": "code",
   "execution_count": null,
   "metadata": {
    "collapsed": true
   },
   "outputs": [],
   "source": []
  }
 ],
 "metadata": {
  "kernelspec": {
   "display_name": "Python 2",
   "language": "python",
   "name": "python2"
  },
  "language_info": {
   "codemirror_mode": {
    "name": "ipython",
    "version": 2
   },
   "file_extension": ".py",
   "mimetype": "text/x-python",
   "name": "python",
   "nbconvert_exporter": "python",
   "pygments_lexer": "ipython2",
   "version": "2.7.11"
  }
 },
 "nbformat": 4,
 "nbformat_minor": 0
}
