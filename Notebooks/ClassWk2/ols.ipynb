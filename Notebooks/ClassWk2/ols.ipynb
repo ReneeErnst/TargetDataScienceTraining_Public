{
 "cells": [
  {
   "cell_type": "markdown",
   "metadata": {},
   "source": [
    "### Closed form solution to the OLS problem with matrices and example python codes."
   ]
  },
  {
   "cell_type": "code",
   "execution_count": 3,
   "metadata": {
    "collapsed": false
   },
   "outputs": [],
   "source": [
    "import numpy as np\n",
    "import matplotlib.pyplot as plt\n",
    "\n",
    "from sklearn import linear_model\n",
    "\n",
    "%matplotlib inline"
   ]
  },
  {
   "cell_type": "markdown",
   "metadata": {},
   "source": [
    "#### Generate some test data"
   ]
  },
  {
   "cell_type": "code",
   "execution_count": 4,
   "metadata": {
    "collapsed": false
   },
   "outputs": [],
   "source": [
    "# our true equation, I just made this up...\n",
    "f_1 = lambda x: -0.5 * x + 20\n",
    "\n",
    "# number of data points\n",
    "num_vals = 20\n",
    "\n",
    "# x values\n",
    "x = np.linspace(-50, 50, num_vals)\n",
    "\n",
    "# y vals with added in random noise\n",
    "np.random.seed(23)\n",
    "y = f_1(x) + np.random.normal(0, 10, num_vals)"
   ]
  },
  {
   "cell_type": "code",
   "execution_count": 5,
   "metadata": {
    "collapsed": false
   },
   "outputs": [
    {
     "data": {
      "image/png": "[encoded data removed]",
      "text/plain": [
       "<matplotlib.figure.Figure at 0x7f39ab542490>"
      ]
     },
     "metadata": {},
     "output_type": "display_data"
    }
   ],
   "source": [
    "plt.figure(figsize=(12, 6))\n",
    "plt.plot(x, y, 'o')\n",
    "plt.title('Synthetic data points')\n",
    "plt.grid()\n",
    "plt.show()"
   ]
  },
  {
   "cell_type": "markdown",
   "metadata": {},
   "source": [
    "### A brief explanation of closed form OLS with matrices\n",
    "\n",
    "**Mostly from the slides.**\n",
    "\n",
    "$$Y = X\\cdot{\\theta} + e$$\n",
    "\n",
    "Starting from the above which is similar in appearance to the familiar equation of a line ($y=m\\cdot{x}+b$) except that:\n",
    "\n",
    "* Y is a Nx1 vector of target values.\n",
    "* X is a Nx(p+1) matrix of input values.\n",
    "* $\\theta$ is a (p+1) x 1 matrix of parameter values.\n",
    "\n",
    "\n",
    "Given that the sum squared error can be expressed as:\n",
    "\n",
    "$$SSE = e'e$$\n",
    "\n",
    "We can re-write the SSE as:\n",
    "\n",
    "$$SSE = (Y-X\\theta)'(Y-X\\theta)$$\n",
    "$$=(Y' − \\theta'X')(Y − X\\theta)$$\n",
    "\n",
    "Foil!\n",
    "\n",
    "$$=Y'Y - Y'X\\theta - \\theta'X'Y +\\theta'X'X\\theta$$\n",
    "\n",
    "The middle terms above are actually the same scaler (according to the internet) so they can be simplified as follows:\n"
   ]
  },
  {
   "cell_type": "markdown",
   "metadata": {},
   "source": [
    "\n",
    "$$=Y'Y − 2\\theta'X'Y + \\theta'X'X\\theta$$\n",
    "\n",
    "Where:\n",
    "\n",
    "$$\\dfrac{∂SSE}{∂\\theta}=\\dfrac{∂}{∂\\theta}(Y'Y − 2\\theta'X'Y + \\theta'X'X\\theta)$$\n",
    "\n",
    "Differentiating gives us:\n",
    "\n",
    "$$\\dfrac{∂SSE}{∂\\theta}=-2X'Y + 2X'X\\theta$$\n",
    "\n",
    "Setting to 0:\n",
    "\n",
    "$$0=-2X'Y + 2X'X\\theta$$\n",
    "$$\\require{cancel} (X'X)^{-1}X'Y = \\cancel{(X'X)^{-1}X'X}\\theta$$\n",
    "\n",
    "And finally...\n",
    "\n",
    "$$(X'X)^{-1}X'Y = \\theta$$"
   ]
  },
  {
   "cell_type": "markdown",
   "metadata": {},
   "source": [
    "#### The numpy solution\n",
    "\n",
    "one line..."
   ]
  },
  {
   "cell_type": "code",
   "execution_count": 6,
   "metadata": {
    "collapsed": false
   },
   "outputs": [],
   "source": [
    "ols = lambda x, y: np.linalg.inv(x.T.dot(x)).dot(x.T.dot(y))"
   ]
  },
  {
   "cell_type": "markdown",
   "metadata": {},
   "source": [
    "#### Matrix augmentation\n",
    "\n",
    "This is nescessary so X'X yields a square matrix. Recall that for a matrix A to be invertible there must be some matrix B such that $AB=BA=I_n$ which means that a condition for inversion is that A is nxn. \n",
    "\n",
    "With the data above X is a 20 element array. Without augmenting the matrices X'X gives us:\n",
    "\n",
    "```python\n",
    "x.T.dot(x)\n",
    "18421.05263157895\n",
    "```\n",
    "\n",
    "If we augment the matrix with an additional column of ones:\n",
    "\n",
    "```python\n",
    "x_aug.T.dot(x_aug)\n",
    "array([[  1.84210526e+04,   9.94759830e-14],\n",
    "       [  9.94759830e-14,   2.00000000e+01]])\n",
    "```\n",
    "\n",
    "Which we can invert:\n",
    "\n",
    "```python\n",
    "np.linalg.inv(x_aug.T.dot(x_aug))\n",
    "array([[  5.42857143e-05,  -2.70006240e-19],\n",
    "       [ -2.70006240e-19,   5.00000000e-02]])\n",
    "```\n",
    "\n",
    "And then multiply by X'Y to get the slope and intercept.\n",
    "```python\n",
    "np.array([[  5.42857143e-05,  -2.70006240e-19], [ -2.70006240e-19,   5.00000000e-02]]).dot(x_aug.T.dot(y))\n",
    "array([ -0.56399372,  18.45259465])\n",
    "```"
   ]
  },
  {
   "cell_type": "code",
   "execution_count": 7,
   "metadata": {
    "collapsed": false
   },
   "outputs": [],
   "source": [
    "# add our column of ones to augment\n",
    "x_aug = np.ones((num_vals, 2))\n",
    "x_aug[:, 0] = x"
   ]
  },
  {
   "cell_type": "code",
   "execution_count": 8,
   "metadata": {
    "collapsed": false
   },
   "outputs": [
    {
     "data": {
      "text/plain": [
       "array([[-50.        ,   1.        ],\n",
       "       [-44.73684211,   1.        ],\n",
       "       [-39.47368421,   1.        ],\n",
       "       [-34.21052632,   1.        ],\n",
       "       [-28.94736842,   1.        ],\n",
       "       [-23.68421053,   1.        ],\n",
       "       [-18.42105263,   1.        ],\n",
       "       [-13.15789474,   1.        ],\n",
       "       [ -7.89473684,   1.        ],\n",
       "       [ -2.63157895,   1.        ],\n",
       "       [  2.63157895,   1.        ],\n",
       "       [  7.89473684,   1.        ],\n",
       "       [ 13.15789474,   1.        ],\n",
       "       [ 18.42105263,   1.        ],\n",
       "       [ 23.68421053,   1.        ],\n",
       "       [ 28.94736842,   1.        ],\n",
       "       [ 34.21052632,   1.        ],\n",
       "       [ 39.47368421,   1.        ],\n",
       "       [ 44.73684211,   1.        ],\n",
       "       [ 50.        ,   1.        ]])"
      ]
     },
     "execution_count": 8,
     "metadata": {},
     "output_type": "execute_result"
    }
   ],
   "source": [
    "x_aug"
   ]
  },
  {
   "cell_type": "markdown",
   "metadata": {},
   "source": [
    "#### Testing it out"
   ]
  },
  {
   "cell_type": "code",
   "execution_count": 9,
   "metadata": {
    "collapsed": false
   },
   "outputs": [
    {
     "data": {
      "text/plain": [
       "LinearRegression(copy_X=True, fit_intercept=True, n_jobs=1, normalize=False)"
      ]
     },
     "execution_count": 9,
     "metadata": {},
     "output_type": "execute_result"
    }
   ],
   "source": [
    "# test against the sklearn implementation\n",
    "\n",
    "# Create linear regression object\n",
    "regr = linear_model.LinearRegression()\n",
    "\n",
    "# Train the model using the training sets\n",
    "# sklearn needs a nx1 numpy.ndarrays\n",
    "# so we reshape to add\n",
    "\n",
    "regr.fit(np.reshape(x, (num_vals, 1)), np.reshape(y, (num_vals, 1)))"
   ]
  },
  {
   "cell_type": "code",
   "execution_count": 10,
   "metadata": {
    "collapsed": false
   },
   "outputs": [
    {
     "data": {
      "image/png": "[encoded data removed]",
      "text/plain": [
       "<matplotlib.figure.Figure at 0x7f39ab52ee10>"
      ]
     },
     "metadata": {},
     "output_type": "display_data"
    }
   ],
   "source": [
    "# call out function to get the slope and intercept\n",
    "m, b = ols(x_aug, y)\n",
    "\n",
    "plt.figure(figsize=(12, 6))\n",
    "\n",
    "# synthetic data points\n",
    "plt.plot(x, y, 'o', label='Synthetic Data')\n",
    "\n",
    "# again, sklearn needs a nx1 array\n",
    "plt.plot(x, regr.predict(np.reshape(x, (num_vals, 1))), color='red', linewidth=4, label='Sklearn Model')\n",
    "\n",
    "# our ols solver\n",
    "plt.plot(x, m*x + b, '--k', linewidth=4, label='Our OLS Solver')\n",
    "plt.rc('text', usetex=True)\n",
    "plt.rc('font', family='serif')\n",
    "\n",
    "title = r'Model: y = %.2fx + %.2f' % (m, b)\n",
    "plt.title(title, fontsize=24)\n",
    "plt.legend()\n",
    "plt.grid()\n",
    "plt.show()"
   ]
  },
  {
   "cell_type": "code",
   "execution_count": 11,
   "metadata": {
    "collapsed": false
   },
   "outputs": [
    {
     "name": "stdout",
     "output_type": "stream",
     "text": [
      "-0.563993716391 18.4525946507 \n",
      "[[-0.56399372]] 18.4525946507\n"
     ]
    }
   ],
   "source": [
    "# Comparing coefficients between sklearn and ours.\n",
    "print m,b,'\\n',regr.coef_, regr.intercept_[0]"
   ]
  },
  {
   "cell_type": "markdown",
   "metadata": {},
   "source": [
    "### Higher degree polynomials\n",
    "\n",
    "Higher degree polynomial fitting requires a slightly different X.\n",
    "\n",
    "This is nicely explained here:\n",
    "\n",
    "http://mathworld.wolfram.com/LeastSquaresFittingPolynomial.html"
   ]
  },
  {
   "cell_type": "code",
   "execution_count": 12,
   "metadata": {
    "collapsed": true
   },
   "outputs": [],
   "source": [
    "# our true equation, I just made this up...\n",
    "f_2 = lambda x: x**2 - 0.5 * x\n",
    "\n",
    "# number of data points\n",
    "num_vals = 20\n",
    "\n",
    "# x values\n",
    "x = np.linspace(-5, 5, num_vals)\n",
    "\n",
    "# y vals with added in random noise\n",
    "np.random.seed(23)\n",
    "y = f_2(x) + np.random.normal(0, 3, num_vals)"
   ]
  },
  {
   "cell_type": "code",
   "execution_count": 13,
   "metadata": {
    "collapsed": false
   },
   "outputs": [
    {
     "data": {
      "image/png": "[encoded data removed]",
      "text/plain": [
       "<matplotlib.figure.Figure at 0x7f39ab508e50>"
      ]
     },
     "metadata": {},
     "output_type": "display_data"
    }
   ],
   "source": [
    "plt.figure(figsize=(12, 6))\n",
    "plt.plot(x, y, 'o')\n",
    "plt.title('Synthetic data points')\n",
    "plt.grid()\n",
    "plt.show()"
   ]
  },
  {
   "cell_type": "code",
   "execution_count": 14,
   "metadata": {
    "collapsed": true
   },
   "outputs": [],
   "source": [
    "def polyfit(x, y, degree=1):\n",
    "    \"\"\"\n",
    "    Find polynomial coefficients given x and y. \n",
    "    \"\"\"\n",
    "    # We are assuming that X and Y are vectors\n",
    "    # x.shape = (n,)\n",
    "    m, = x.shape\n",
    "    \n",
    "    # Generate polynomial features.\n",
    "    # we need the first column to be ones, the second to be x**1\n",
    "    # the third to be x**2, ..., x**order\n",
    "    x_aug = np.power(x.repeat(degree+1).reshape((m, degree+1)), xrange(degree+1))\n",
    "    \n",
    "    # this is the same as above (X'X)^-1(X'Y)\n",
    "    return np.linalg.inv(x_aug.T.dot(x_aug)).dot(x_aug.T.dot(y))"
   ]
  },
  {
   "cell_type": "markdown",
   "metadata": {},
   "source": [
    "#### Our true equation:\n",
    "$$y=x^2 - 0.5 x + 0$$"
   ]
  },
  {
   "cell_type": "code",
   "execution_count": 15,
   "metadata": {
    "collapsed": false
   },
   "outputs": [
    {
     "data": {
      "image/png": "[encoded data removed]",
      "text/plain": [
       "<matplotlib.figure.Figure at 0x7f39d939c990>"
      ]
     },
     "metadata": {},
     "output_type": "display_data"
    }
   ],
   "source": [
    "from sklearn.preprocessing import PolynomialFeatures\n",
    "from sklearn.pipeline import make_pipeline\n",
    "\n",
    "# Use sklearn to find the model\n",
    "degree = 2\n",
    "model = make_pipeline(PolynomialFeatures(degree), linear_model.LinearRegression())\n",
    "model.fit(np.reshape(x, (num_vals, 1)), np.reshape(y, (num_vals, 1)))\n",
    "y_plot = model.predict(np.reshape(x, (num_vals, 1)))\n",
    "\n",
    "# Synthetic data\n",
    "plt.figure(figsize=(12, 6))\n",
    "plt.plot(x, y, 'o', label='Synthetic Data')\n",
    "\n",
    "# again, sklearn needs a nx1 array\n",
    "plt.plot(x, y_plot, color='red', linewidth=4, label='Sklearn Model')\n",
    "\n",
    "# our ols solver\n",
    "c,b,a = polyfit(x, y, 2)\n",
    "plt.plot(x, a*x**2 + b*x + c, '--k', linewidth=4, label='Our OLS Solver')\n",
    "\n",
    "plt.rc('text', usetex=True)\n",
    "plt.rc('font', family='serif')\n",
    "title = r'Model: $y = %.2f {x^2} %.2fx %.2f$' % (a, b, c)\n",
    "plt.title(title, fontsize=24)\n",
    "\n",
    "plt.legend()\n",
    "plt.grid()\n",
    "plt.show()"
   ]
  },
  {
   "cell_type": "markdown",
   "metadata": {},
   "source": [
    "#### Comparing coefficients"
   ]
  },
  {
   "cell_type": "code",
   "execution_count": 16,
   "metadata": {
    "collapsed": false
   },
   "outputs": [
    {
     "data": {
      "text/plain": [
       "array([-0.26099313, -0.69198115,  0.97793519])"
      ]
     },
     "execution_count": 16,
     "metadata": {},
     "output_type": "execute_result"
    }
   ],
   "source": [
    "# from ours\n",
    "polyfit(x, y, 2)"
   ]
  },
  {
   "cell_type": "code",
   "execution_count": 17,
   "metadata": {
    "collapsed": false
   },
   "outputs": [
    {
     "data": {
      "text/plain": [
       "(array([-0.26099313]), array([-0.69198115,  0.97793519]))"
      ]
     },
     "execution_count": 17,
     "metadata": {},
     "output_type": "execute_result"
    }
   ],
   "source": [
    "# from sklearn\n",
    "l = model.steps[1][1]\n",
    "l.intercept_, l.coef_[0][1:]"
   ]
  },
  {
   "cell_type": "code",
   "execution_count": null,
   "metadata": {
    "collapsed": true
   },
   "outputs": [],
   "source": []
  }
 ],
 "metadata": {
  "kernelspec": {
   "display_name": "Python 2",
   "language": "python",
   "name": "python2"
  },
  "language_info": {
   "codemirror_mode": {
    "name": "ipython",
    "version": 2
   },
   "file_extension": ".py",
   "mimetype": "text/x-python",
   "name": "python",
   "nbconvert_exporter": "python",
   "pygments_lexer": "ipython2",
   "version": "2.7.12"
  },
  "widgets": {
   "state": {},
   "version": "1.1.2"
  }
 },
 "nbformat": 4,
 "nbformat_minor": 0
}
