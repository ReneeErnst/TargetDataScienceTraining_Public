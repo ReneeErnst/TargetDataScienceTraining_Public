{
 "cells": [
  {
   "cell_type": "code",
   "execution_count": 10,
   "metadata": {
    "collapsed": false
   },
   "outputs": [
    {
     "name": "stdout",
     "output_type": "stream",
     "text": [
      "Linear Regression Model is b =  3.779874 m = 56.874214\n"
     ]
    }
   ],
   "source": [
    "#Jimi at 12:19\n",
    "def gradientDescentIteration(b_current, theta1_current, theta2_current, points, learningRate):\n",
    "    b_gradient = 0\n",
    "    m_gradient = 0\n",
    "    m_gradient2 = 0\n",
    "    yIndx = len(data[0])-1 \n",
    "    N = float(len(points))\n",
    "    # calculate the gradient for b and m over all the training data points\n",
    "    for i in range(0, len(points)):\n",
    "        b_gradient += -(2/N) * (points[i][yIndx] - ((m_current*points[i][0]) + b_current))\n",
    "        theta_1 += -(2/N) * points[i][1] * (points[i][yIndx] - ((theta1_current * points[i][1]) + b_current))\n",
    "        theta_2 += -(2/N) * points[i][2] * (points[i][yIndx] - ((theta2_current * points[i][2]) + b_current))\n",
    "    #gradient update step\n",
    "    new_b = b_current - (learningRate * b_gradient)\n",
    "    new_theta1 = theta1_current - (learningRate * m_gradient)\n",
    "    new_theta2 = theta2_current - (learningRate * m_gradient2)\n",
    "    return [new_b, new_theta1, new_theta2]\n",
    "\n",
    "#data in the of tuples [x, y]\n",
    "data = [[1, 3, 2], [2,20, 3], [3,5, 7], [4, 5, 8], [5, 9, 9]]\n",
    "\n",
    "b = 0\n",
    "m = 1\n",
    "weightVector = [b, m]\n",
    "#for n gradient iterations refine the weight vector\n",
    "for i in range(30):\n",
    "    weightVector = gradientDescentIteration(weightVector[0], \n",
    "                                            weightVector[1], \n",
    "                                            weightVector[2],\n",
    "                                            data, 0.01)\n",
    "    \n",
    "print \"Linear Regression Model is b =  %f m = %f\" %(weightVector[0], weightVector[1] ) "
   ]
  },
  {
   "cell_type": "code",
   "execution_count": 11,
   "metadata": {
    "collapsed": false
   },
   "outputs": [
    {
     "name": "stdout",
     "output_type": "stream",
     "text": [
      "Linear Regression Model is b = 0.013148 m = 1.078934 m2 = 1.058534\n"
     ]
    }
   ],
   "source": [
    "# From Michael Hoven\n",
    "def gradientDescentIteration(b_current, m_current, m2_current, points, learningRate):\n",
    "    b_gradient = 0\n",
    "    m_gradient = 0\n",
    "    m2_gradient = 0\n",
    "    yIndx = len(data[0])-2\n",
    "    y2Indx = len(data[0])-1 \n",
    "    N = float(len(points))\n",
    "    # calculate the gradient for b and m over all the training data points\n",
    "    for i in range(0, len(points)):\n",
    "        b_gradient += -(2/N) * (points[i][yIndx] - ((m_current*points[i][0])+(m2_current*points[i][0]) + b_current))\n",
    "        m_gradient += -(2/N) * points[i][0] * (points[i][yIndx] - ((m_current * points[i][0]) + b_current))\n",
    "        m2_gradient += -(2/N) * points[i][0] * (points[i][y2Indx] - ((m_current * points[i][0]) + b_current))\n",
    "    #gradient update step\n",
    "    new_b = b_current - (learningRate * b_gradient)\n",
    "    new_m = m_current - (learningRate * m_gradient)\n",
    "    new_m2 = m2_current - (learningRate * m2_gradient)\n",
    "    return [new_b, new_m, new_m2]\n",
    "#data in the of tuples [x, y]\n",
    "data = [[1, 3, 2], [2,20, 3], [3,5, 7], [4, 5, 8], [5, 9, 9]]\n",
    "b = 0\n",
    "m = 1\n",
    "m2 = 1\n",
    "weightVector = [b, m, m2]\n",
    "#for n gradient iterations refine the weight vector\n",
    "for i in range(30):\n",
    "    weightVector = gradientDescentIteration(weightVector[0], weightVector[1], weightVector[2], data, 0.0001)\n",
    "print \"Linear Regression Model is b = %f m = %f m2 = %f\" %(weightVector[0], weightVector[1], weightVector[2]  )"
   ]
  },
  {
   "cell_type": "code",
   "execution_count": null,
   "metadata": {
    "collapsed": true
   },
   "outputs": [],
   "source": [
    "# from Reed\n",
    "def stepGradient(b_current, m1_current, m2_current, points, learningrate):\n",
    "    b_gradient = 0\n",
    "    m1_gradient = 0\n",
    "    m2_gradient = 0\n",
    "    yindx = len(data[0])-1\n",
    "    N = float(len(points))\n",
    "    for i in range(0, len(points)):\n",
    "        b_gradient += -(2/N) * (points[i][yindx] - ((m1_current*points[i][1]) + m2_current*points[i][2] + b_current))\n",
    "        m1_gradient += -(2/N) * points[i][1] * (points[i][yindx] - ((m1_current * points[i][1] + b_current)))\n",
    "        m2_gradient += -(2/N) * points[i][2] * (points[i][yindx] - ((m2_current * points[i][2] + b_current)))\n",
    "        \n",
    "    new_b = b_current - (learningrate * b_gradient)\n",
    "    new_m1 = m1_current - (learningrate * m1_gradient)\n",
    "    new_m2 = m2_current - (learningrate * m2_gradient)\n",
    "    return [new_b, new_m1, new_m2]\n",
    "#data in the form of tuples\n",
    "data = [[1,3, 2], [2,20,3], [3, 5, 7], [4, 5, 8], [5, 9, 9]]\n",
    "b=0\n",
    "m1=1\n",
    "m2=1\n",
    "weightVector = [b,m1, m2]\n",
    "for i in range(30):\n",
    "    weightVector = stepGradient(weightVector[0], weightVector[1], weightVector[2], data, 0.0001)\n",
    "print \"Linear Regression \" + str(weightVector[0]) + \" \" + str(weightVector[1]) + \" \" + str(weightVector[2])"
   ]
  },
  {
   "cell_type": "markdown",
   "metadata": {
    "collapsed": true
   },
   "source": [
    "Adding another variable is adding another m"
   ]
  },
  {
   "cell_type": "code",
   "execution_count": null,
   "metadata": {
    "collapsed": true
   },
   "outputs": [],
   "source": [
    "from mrjob.job import MRJob\n",
    "\n",
    "class MRRegression(MRJob):\n",
    "    \n",
    "    def mapper1(self): \n",
    "        with open('weights.txt', 'r') as f:\n",
    "            self.weights = [float(v) for v in f.readlines().split(',')]\n",
    "        self.partial_gradient = [0] * len(self.weights)\n",
    "        self.partial_count = 0\n",
    "        \n",
    "    # MAPPER Calculate partial gradient for each example\n",
    "    def mapper2(self, _, line):\n",
    "        D = (map(float, line.split(',')))\n",
    "        # y_hat is the predicted value given the current weights\n",
    "        y_hat = self.weights[0] + self.weights[1] * D[1]\n",
    "        # Update partial gradient vector with gradient from current example\n",
    "        yield (None, (D[0] - y_hat, D[0] - y_hat) * D[1], 1)\n",
    "        \n",
    "    # REDUCER Accumulate parital gradient from mapper and emit total gradient\n",
    "    # Output: key = None, Value = gradient vector\n",
    "    def reducer(self, _, partial_gradient_record):\n",
    "        total_gradient = [0] * 2\n",
    "        total_connt = 0\n",
    "        for partial_gradient, partial_count in partial_gradient_record:\n",
    "            total_count = total_count + partial_count\n",
    "            total_gradient[0] = total_gradient[0] + partial_gradient[0]\n",
    "            total_gradient[1] = total_gradient[] + partial_gradient[]\n",
    "            "
   ]
  }
 ],
 "metadata": {
  "kernelspec": {
   "display_name": "Python 2",
   "language": "python",
   "name": "python2"
  },
  "language_info": {
   "codemirror_mode": {
    "name": "ipython",
    "version": 2
   },
   "file_extension": ".py",
   "mimetype": "text/x-python",
   "name": "python",
   "nbconvert_exporter": "python",
   "pygments_lexer": "ipython2",
   "version": "2.7.12"
  },
  "widgets": {
   "state": {},
   "version": "1.1.2"
  }
 },
 "nbformat": 4,
 "nbformat_minor": 0
}
