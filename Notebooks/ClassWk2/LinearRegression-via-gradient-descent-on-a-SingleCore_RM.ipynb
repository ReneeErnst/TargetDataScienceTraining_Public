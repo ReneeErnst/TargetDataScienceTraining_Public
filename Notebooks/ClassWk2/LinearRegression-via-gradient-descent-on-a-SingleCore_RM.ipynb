{
 "cells": [
  {
   "cell_type": "code",
   "execution_count": 4,
   "metadata": {
    "collapsed": false
   },
   "outputs": [
    {
     "name": "stdout",
     "output_type": "stream",
     "text": [
      "Linear Regression Model is b =  45617512026531231522685773795830005760.000000 m = 1630597935553302976896704316562311479296.000000\n"
     ]
    }
   ],
   "source": [
    "#Jimi at 12:19\n",
    "def gradientDescentIteration(b_current, m_current, points, learningRate):\n",
    "    b_gradient = 0\n",
    "    m_gradient = 0\n",
    "    m_gradient2 = 0\n",
    "    yIndx = len(data[0])-1 \n",
    "    N = float(len(points))\n",
    "    # calculate the gradient for b and m over all the training data points\n",
    "    for i in range(0, len(points)):\n",
    "        b_gradient += -(2/N) * (points[i][yIndx] - ((m_current*points[i][0]) + b_current))\n",
    "        m_gradient += -(2/N) * points[i][1] * (points[i][yIndx] - ((m_current * points[i][1]) + b_current))\n",
    "        m_gradient2 += -(2/N) * points[i][2] * (points[i][yIndx] - ((m_current * points[i][2]) + b_current))\n",
    "    #gradient update step\n",
    "    new_b = b_current - (learningRate * b_gradient)\n",
    "    new_m = m_current - (learningRate * m_gradient)\n",
    "    new_m2 = m_current - (learningRate * m_gradient2)\n",
    "    return [new_b, new_m, new_m2]\n",
    "\n",
    "#data in the of tuples [x, y]\n",
    "data = [[1, 3, 2], [2,20, 3], [3,5, 7], [4, 5, 8], [5, 9, 9]]\n",
    "\n",
    "b = 0\n",
    "m = 1\n",
    "weightVector = [b, m]\n",
    "#for n gradient iterations refine the weight vector\n",
    "for i in range(30):\n",
    "    weightVector = gradientDescentIteration(weightVector[0], weightVector[1], data, 0.1)\n",
    "    \n",
    "print \"Linear Regression Model is b =  %f m = %f\" %(weightVector[0], weightVector[1] ) "
   ]
  },
  {
   "cell_type": "markdown",
   "metadata": {
    "collapsed": true
   },
   "source": [
    "Adding another variable is adding another m"
   ]
  },
  {
   "cell_type": "code",
   "execution_count": null,
   "metadata": {
    "collapsed": true
   },
   "outputs": [],
   "source": []
  }
 ],
 "metadata": {
  "kernelspec": {
   "display_name": "Python 2",
   "language": "python",
   "name": "python2"
  },
  "language_info": {
   "codemirror_mode": {
    "name": "ipython",
    "version": 2
   },
   "file_extension": ".py",
   "mimetype": "text/x-python",
   "name": "python",
   "nbconvert_exporter": "python",
   "pygments_lexer": "ipython2",
   "version": "2.7.12"
  },
  "widgets": {
   "state": {},
   "version": "1.1.2"
  }
 },
 "nbformat": 4,
 "nbformat_minor": 0
}
