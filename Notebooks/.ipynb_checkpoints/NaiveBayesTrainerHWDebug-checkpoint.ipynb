{
 "cells": [
  {
   "cell_type": "code",
   "execution_count": 3,
   "metadata": {
    "collapsed": false
   },
   "outputs": [],
   "source": [
    "d = {'user':'bozo', 'pswd':1234}"
   ]
  },
  {
   "cell_type": "code",
   "execution_count": 4,
   "metadata": {
    "collapsed": false
   },
   "outputs": [
    {
     "data": {
      "text/plain": [
       "[1234, 'bozo']"
      ]
     },
     "execution_count": 4,
     "metadata": {},
     "output_type": "execute_result"
    }
   ],
   "source": [
    "d.values()"
   ]
  },
  {
   "cell_type": "code",
   "execution_count": 5,
   "metadata": {
    "collapsed": false
   },
   "outputs": [
    {
     "data": {
      "text/plain": [
       "['pswd', 'user']"
      ]
     },
     "execution_count": 5,
     "metadata": {},
     "output_type": "execute_result"
    }
   ],
   "source": [
    "d.keys()"
   ]
  },
  {
   "cell_type": "code",
   "execution_count": 6,
   "metadata": {
    "collapsed": false
   },
   "outputs": [
    {
     "data": {
      "text/plain": [
       "[('pswd', 1234), ('user', 'bozo')]"
      ]
     },
     "execution_count": 6,
     "metadata": {},
     "output_type": "execute_result"
    }
   ],
   "source": [
    "d.items()"
   ]
  },
  {
   "cell_type": "code",
   "execution_count": 8,
   "metadata": {
    "collapsed": false
   },
   "outputs": [
    {
     "name": "stdout",
     "output_type": "stream",
     "text": [
      "TomsPriors [0.25, 0.75]\n",
      "pswd 1234\n",
      "user bozo\n"
     ]
    }
   ],
   "source": [
    "d[\"TomsPriors\"] = [0.25, 0.75]\n",
    "words = d.keys()\n",
    "words.sort()\n",
    "\n",
    "for w in words:\n",
    "    print w, d[w]\n"
   ]
  },
  {
   "cell_type": "code",
   "execution_count": 52,
   "metadata": {
    "collapsed": false
   },
   "outputs": [
    {
     "name": "stdout",
     "output_type": "stream",
     "text": [
      "['beijing', '0\\t1']\n",
      "['chinese', '1\\t0']\n",
      "['japan', '1\\t0']\n",
      "['macau', '0\\t1']\n",
      "['shanghai', '0\\t1']\n",
      "['tokyo', '1\\t0']\n",
      "beijing [0.0, 1.0]\n",
      "chinese [1.0, 5.0]\n",
      "macau [0.0, 1.0]\n",
      "tokyo [1.0, 0.0]\n",
      "shanghai [0.0, 1.0]\n",
      "japan [1.0, 0.0]\n"
     ]
    }
   ],
   "source": [
    "values = [\"chinese\\t0\\t1\",\"chinese\\t0\\t1\", \"chinese\\t0\\t1\",\n",
    "          \"chinese\\t0\\t1\", \"chinese\\t0\\t1\", \"beijing\\t0\\t1\",\n",
    "          \"shanghai\\t0\\t1\", \"macau\\t0\\t1\",\n",
    "          \"tokyo\\t1\\t0\", \"chinese\\t1\\t0\",\n",
    "          \"japan\\t1\\t0\"]\n",
    "\n",
    "reducerKeyValuePairs = []\n",
    "for v in values:\n",
    "    key, value = v.split(\"\\t\",1) #first token, the rest\n",
    "    reducerKeyValuePairs.append([key, value])\n",
    "    #print reducerKeyValuePairs[len(reducerKeyValuePairs)-1]\n",
    "\n",
    "#sort the input by key\n",
    "myKeysToIndex = \n",
    "for i in range(len(reducerKeyValuePairs)):\n",
    "    myKeysToIndex[reducerKeyValuePairs[i][0]] = i\n",
    "\n",
    "keys = myKeysToIndex.keys()\n",
    "keys.sort()\n",
    "for w in keys:\n",
    "    #print w, myKeysToIndex[w]\n",
    "    print reducerKeyValuePairs[myKeysToIndex[w]]\n",
    "\n",
    "    \n",
    "#quit()\n",
    "modelStats = {}\n",
    "#aggregate counts for Pr(Word|Class)\n",
    "for value in values:\n",
    "    word, w0, w1  =  value.split()\n",
    "    w0 = float(w0)\n",
    "    w1 = float(w1)   \n",
    "    currentVals= modelStats.get(word,[0,0]) \n",
    "    modelStats[word] = [currentVals[0] + w0, currentVals[1] + w1]\n",
    "    \n",
    "#print unnormalized model \n",
    "for k in modelStats.keys():\n",
    "    print k, modelStats[k]"
   ]
  },
  {
   "cell_type": "code",
   "execution_count": 88,
   "metadata": {
    "collapsed": false
   },
   "outputs": [
    {
     "name": "stdout",
     "output_type": "stream",
     "text": [
      "Overwriting chineseExample.txt\n"
     ]
    }
   ],
   "source": [
    "%%writefile chineseExample.txt\n",
    "D1\t1\tChinese Beijing\tChinese\n",
    "D2\t1\tChinese Chinese\tShanghai\n",
    "D3\t1\tChinese\tMacao\n",
    "D4\t0\tTokyo Japan\tChinese\n",
    "D5\t0\tChinese Chinese\tChinese Tokyo Japan"
   ]
  },
  {
   "cell_type": "code",
   "execution_count": 59,
   "metadata": {
    "collapsed": false
   },
   "outputs": [
    {
     "name": "stdout",
     "output_type": "stream",
     "text": [
      "class0Total 3.0\n",
      "class1Total 8.0\n",
      "[0.0, 1.0, 0.0, 0.125]\n",
      "[1.0, 5.0, 0.3333333333333333, 0.625]\n",
      "[0.0, 1.0, 0.0, 0.125]\n",
      "[1.0, 0.0, 0.3333333333333333, 0.0]\n",
      "[0.0, 1.0, 0.0, 0.125]\n",
      "[1.0, 0.0, 0.3333333333333333, 0.0]\n",
      "beijing [0.0, 1.0, 0.0, 0.125]\n",
      "chinese [1.0, 5.0, 0.3333333333333333, 0.625]\n",
      "macau [0.0, 1.0, 0.0, 0.125]\n",
      "tokyo [1.0, 0.0, 0.3333333333333333, 0.0]\n",
      "shanghai [0.0, 1.0, 0.0, 0.125]\n",
      "japan [1.0, 0.0, 0.3333333333333333, 0.0]\n"
     ]
    }
   ],
   "source": [
    "values = [\"chinese\\t0\\t1\",\"chinese\\t0\\t1\", \"chinese\\t0\\t1\",\n",
    "          \"chinese\\t0\\t1\", \"chinese\\t0\\t1\", \"beijing\\t0\\t1\",\n",
    "          \"shanghai\\t0\\t1\", \"macau\\t0\\t1\",\n",
    "          \"tokyo\\t1\\t0\", \"chinese\\t1\\t0\",\n",
    "          \"japan\\t1\\t0\"]\n",
    "\n",
    "modelStats = {}\n",
    "#aggregate counts for Pr(Word|Class)\n",
    "for value in values:\n",
    "    word, w0, w1  =  value.split()\n",
    "    w0 = float(w0)\n",
    "    w1 = float(w1)   \n",
    "    currentVals= modelStats.get(word,[0,0]) \n",
    "    modelStats[word] = [currentVals[0] + w0, currentVals[1] + w1]\n",
    "\n",
    "class0Total = 0\n",
    "class1Total = 0\n",
    "for v in modelStats.values():\n",
    "    class0Total += v[0]\n",
    "    class1Total += v[1]\n",
    "print   \"class0Total\", class0Total  \n",
    "print   \"class1Total\", class1Total  \n",
    "\n",
    "for k in modelStats.keys():\n",
    "    modelStats[k] = [modelStats[k][0],\n",
    "                     modelStats[k][1],\n",
    "                     modelStats[k][0]/class0Total, \n",
    "                     modelStats[k][1]/class1Total]\n",
    "    print modelStats[k]\n",
    "#print unnormalized model \n",
    "for k in modelStats.keys():\n",
    "    print k, modelStats[k]"
   ]
  },
  {
   "cell_type": "code",
   "execution_count": 17,
   "metadata": {
    "collapsed": false
   },
   "outputs": [
    {
     "data": {
      "text/plain": [
       "1"
      ]
     },
     "execution_count": 17,
     "metadata": {},
     "output_type": "execute_result"
    }
   ],
   "source": [
    "w0 = int(w0)\n",
    "w0"
   ]
  },
  {
   "cell_type": "code",
   "execution_count": 141,
   "metadata": {
    "collapsed": false
   },
   "outputs": [
    {
     "name": "stdout",
     "output_type": "stream",
     "text": [
      "Overwriting MRNaiveBayesTrainer.py\n"
     ]
    }
   ],
   "source": [
    "%%writefile MRNaiveBayesTrainer.py\n",
    "# Copyright 2009-2010 Yelp\n",
    "#\n",
    "# Licensed under the Apache License, Version 2.0 (the \"License\");\n",
    "# you may not use this file except in compliance with the License.\n",
    "# You may obtain a copy of the License at\n",
    "#\n",
    "# http://www.apache.org/licenses/LICENSE-2.0\n",
    "#\n",
    "# Unless required by applicable law or agreed to in writing, software\n",
    "# distributed under the License is distributed on an \"AS IS\" BASIS,\n",
    "# WITHOUT WARRANTIES OR CONDITIONS OF ANY KIND, either express or implied.\n",
    "# See the License for the specific language governing permissions and\n",
    "# limitations under the License.\n",
    "\n",
    "\"\"\"An implementation of wc as an MRJob.\n",
    "This is meant as an example of why mapper_final is useful.\"\"\"\n",
    "from mrjob.job import MRJob\n",
    "\n",
    "class MRNaiveBayesTrainer(MRJob):\n",
    "\n",
    "    def __init__(self, *args, **kwargs):\n",
    "        super(MRNaiveBayesTrainer, self).__init__(*args, **kwargs)\n",
    "        self.modelStats = {}\n",
    "\n",
    "    def mapper(self, _, line):\n",
    "        # Don't actually yield anything for each line. Instead, collect them\n",
    "        # and yield the sums when all lines have been processed. The results\n",
    "        # will be collected by the reducer.\n",
    "        docID, docClass,text = line.split(\"\\t\",2)   \n",
    "        words = text.split()\n",
    "        if docID != \"D5\":  #skip doc d5 in chinese dataset\n",
    "            if docClass == \"1\":\n",
    "                yield(\"TomsPriors\", \"0,1\")\n",
    "                for word in words:\n",
    "                    yield(word, \"0,1\")\n",
    "            else:\n",
    "                yield(\"TomsPriors\", \"1,0\")\n",
    "                for word in words:\n",
    "                    yield(word, \"1,0\")\n",
    "        \n",
    "\n",
    "    def reducer(self, word, values):\n",
    "        #aggregate counts for Pr(Word|Class)\n",
    "        for value in values:\n",
    "            w0, w1 =  value.split(\",\")\n",
    "            w0 = float(w0)\n",
    "            w1 = float(w1)   \n",
    "            currentVals= self.modelStats.get(word,[0,0]) \n",
    "            self.modelStats[word] = [currentVals[0] + w0, \n",
    "                                     currentVals[1] + w1]\n",
    "        for k in self.modelStats.keys():\n",
    "            yield(\"JIMI \"+k, self.modelStats[k])\n",
    "\"\"\"\n",
    "class0Total = 0\n",
    "        class1Total = 0\n",
    "        for k in self.modelStats.keys():\n",
    "            if k != \"TomsPriors\":\n",
    "                class0Total += self.modelStats[k][0]\n",
    "                class1Total += self.modelStats[k][1]\n",
    "        for k in self.modelStats.keys():\n",
    "            yield(k, [self.modelStats[k][0], class0Total,\n",
    "                      self.modelStats[k][1], class1Total])\n",
    "           self.modelStats[k] = [self.modelStats[k][0],\n",
    "                                 self.modelStats[k][1],\n",
    "                                 self.modelStats[k][0]/class0Total, \n",
    "                                 self.modelStats[k][1]/class1Total]        \n",
    "    def reducer_final():\n",
    "        for k in modelStats.keys():\n",
    "            yield(k, modelStats[k])\n",
    "\"\"\"\n",
    "if __name__ == '__main__':\n",
    "    MRNaiveBayesTrainer.run()"
   ]
  },
  {
   "cell_type": "code",
   "execution_count": 142,
   "metadata": {
    "collapsed": false
   },
   "outputs": [
    {
     "name": "stdout",
     "output_type": "stream",
     "text": [
      "no configs found; falling back on auto-configuration\n",
      "no configs found; falling back on auto-configuration\n",
      "creating tmp directory /var/folders/j4/95k348x940xcz40fkdmgy_n40000gn/T/MRNaiveBayesTrainer.jshanahan.20160615.221946.402860\n",
      "writing to /var/folders/j4/95k348x940xcz40fkdmgy_n40000gn/T/MRNaiveBayesTrainer.jshanahan.20160615.221946.402860/step-0-mapper_part-00000\n",
      "Counters from step 1:\n",
      "  (no counters found)\n",
      "writing to /var/folders/j4/95k348x940xcz40fkdmgy_n40000gn/T/MRNaiveBayesTrainer.jshanahan.20160615.221946.402860/step-0-mapper-sorted\n",
      "> sort /var/folders/j4/95k348x940xcz40fkdmgy_n40000gn/T/MRNaiveBayesTrainer.jshanahan.20160615.221946.402860/step-0-mapper_part-00000\n",
      "writing to /var/folders/j4/95k348x940xcz40fkdmgy_n40000gn/T/MRNaiveBayesTrainer.jshanahan.20160615.221946.402860/step-0-reducer_part-00000\n",
      "Counters from step 1:\n",
      "  (no counters found)\n",
      "Moving /var/folders/j4/95k348x940xcz40fkdmgy_n40000gn/T/MRNaiveBayesTrainer.jshanahan.20160615.221946.402860/step-0-reducer_part-00000 -> /var/folders/j4/95k348x940xcz40fkdmgy_n40000gn/T/MRNaiveBayesTrainer.jshanahan.20160615.221946.402860/output/part-00000\n",
      "Streaming final output from /var/folders/j4/95k348x940xcz40fkdmgy_n40000gn/T/MRNaiveBayesTrainer.jshanahan.20160615.221946.402860/output\n",
      "\"JIMI Beijing\"\t[0.0, 1.0]\n",
      "\"JIMI Beijing\"\t[0.0, 1.0]\n",
      "\"JIMI Chinese\"\t[1.0, 5.0]\n",
      "\"JIMI Beijing\"\t[0.0, 1.0]\n",
      "\"JIMI Chinese\"\t[1.0, 5.0]\n",
      "\"JIMI Japan\"\t[1.0, 0.0]\n",
      "\"JIMI Beijing\"\t[0.0, 1.0]\n",
      "\"JIMI Macao\"\t[0.0, 1.0]\n",
      "\"JIMI Chinese\"\t[1.0, 5.0]\n",
      "\"JIMI Japan\"\t[1.0, 0.0]\n",
      "\"JIMI Beijing\"\t[0.0, 1.0]\n",
      "\"JIMI Shanghai\"\t[0.0, 1.0]\n",
      "\"JIMI Macao\"\t[0.0, 1.0]\n",
      "\"JIMI Chinese\"\t[1.0, 5.0]\n",
      "\"JIMI Japan\"\t[1.0, 0.0]\n",
      "\"JIMI Beijing\"\t[0.0, 1.0]\n",
      "\"JIMI Chinese\"\t[1.0, 5.0]\n",
      "\"JIMI Tokyo\"\t[1.0, 0.0]\n",
      "\"JIMI Shanghai\"\t[0.0, 1.0]\n",
      "\"JIMI Japan\"\t[1.0, 0.0]\n",
      "\"JIMI Macao\"\t[0.0, 1.0]\n",
      "\"JIMI Beijing\"\t[0.0, 1.0]\n",
      "\"JIMI Chinese\"\t[1.0, 5.0]\n",
      "\"JIMI Tokyo\"\t[1.0, 0.0]\n",
      "\"JIMI Shanghai\"\t[0.0, 1.0]\n",
      "\"JIMI TomsPriors\"\t[1.0, 3.0]\n",
      "\"JIMI Japan\"\t[1.0, 0.0]\n",
      "\"JIMI Macao\"\t[0.0, 1.0]\n",
      "removing tmp directory /var/folders/j4/95k348x940xcz40fkdmgy_n40000gn/T/MRNaiveBayesTrainer.jshanahan.20160615.221946.402860\n"
     ]
    }
   ],
   "source": [
    "!python MRNaiveBayesTrainer.py chineseExample.txt"
   ]
  },
  {
   "cell_type": "code",
   "execution_count": 87,
   "metadata": {
    "collapsed": false
   },
   "outputs": [
    {
     "data": {
      "text/plain": [
       "['D3', '1', 'Chinese,Macao']"
      ]
     },
     "execution_count": 87,
     "metadata": {},
     "output_type": "execute_result"
    }
   ],
   "source": [
    "\"D3,1,Chinese,Macao\".split(\",\", 2)"
   ]
  },
  {
   "cell_type": "code",
   "execution_count": null,
   "metadata": {
    "collapsed": true
   },
   "outputs": [],
   "source": []
  }
 ],
 "metadata": {
  "kernelspec": {
   "display_name": "Python 2",
   "language": "python",
   "name": "python2"
  },
  "language_info": {
   "codemirror_mode": {
    "name": "ipython",
    "version": 2
   },
   "file_extension": ".py",
   "mimetype": "text/x-python",
   "name": "python",
   "nbconvert_exporter": "python",
   "pygments_lexer": "ipython2",
   "version": "2.7.11"
  }
 },
 "nbformat": 4,
 "nbformat_minor": 0
}
